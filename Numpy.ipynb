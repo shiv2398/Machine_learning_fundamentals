{
 "cells": [
  {
   "cell_type": "code",
   "execution_count": 1,
   "id": "d98f0178-7779-423d-8e9a-7a69be987951",
   "metadata": {},
   "outputs": [],
   "source": [
    "import numpy as np"
   ]
  },
  {
   "cell_type": "code",
   "execution_count": 3,
   "id": "d11c11d3-0cae-44cf-a2d0-530437bb6ca3",
   "metadata": {},
   "outputs": [],
   "source": [
    "my_list=list(range(100))\n",
    "a=np.array(my_list)"
   ]
  },
  {
   "cell_type": "code",
   "execution_count": 4,
   "id": "9da19c53-b871-4f7f-808f-19eb8b03bcaf",
   "metadata": {},
   "outputs": [
    {
     "data": {
      "text/plain": [
       "array([ 0,  1,  2,  3,  4,  5,  6,  7,  8,  9, 10, 11, 12, 13, 14, 15, 16,\n",
       "       17, 18, 19, 20, 21, 22, 23, 24, 25, 26, 27, 28, 29, 30, 31, 32, 33,\n",
       "       34, 35, 36, 37, 38, 39, 40, 41, 42, 43, 44, 45, 46, 47, 48, 49, 50,\n",
       "       51, 52, 53, 54, 55, 56, 57, 58, 59, 60, 61, 62, 63, 64, 65, 66, 67,\n",
       "       68, 69, 70, 71, 72, 73, 74, 75, 76, 77, 78, 79, 80, 81, 82, 83, 84,\n",
       "       85, 86, 87, 88, 89, 90, 91, 92, 93, 94, 95, 96, 97, 98, 99])"
      ]
     },
     "execution_count": 4,
     "metadata": {},
     "output_type": "execute_result"
    }
   ],
   "source": [
    "a"
   ]
  },
  {
   "cell_type": "code",
   "execution_count": 5,
   "id": "aca9b2b6-a633-447f-accd-2e76456cd9ec",
   "metadata": {},
   "outputs": [
    {
     "data": {
      "text/plain": [
       "[[1, 2, 3], [2, 3, 4], [5, 6, 7]]"
      ]
     },
     "execution_count": 5,
     "metadata": {},
     "output_type": "execute_result"
    }
   ],
   "source": [
    "array_2d=[[1,2,3],[2,3,4],[5,6,7]]\n",
    "array_2d"
   ]
  },
  {
   "cell_type": "code",
   "execution_count": 6,
   "id": "eed7ffac-efff-4188-82d6-45dec05563a6",
   "metadata": {},
   "outputs": [],
   "source": [
    "arr_np_2d=np.array(array_2d)"
   ]
  },
  {
   "cell_type": "code",
   "execution_count": 7,
   "id": "1465cc58-2479-4971-a656-2f64becb8b8b",
   "metadata": {},
   "outputs": [
    {
     "data": {
      "text/plain": [
       "array([[1, 2, 3],\n",
       "       [2, 3, 4],\n",
       "       [5, 6, 7]])"
      ]
     },
     "execution_count": 7,
     "metadata": {},
     "output_type": "execute_result"
    }
   ],
   "source": [
    "arr_np_2d"
   ]
  },
  {
   "cell_type": "code",
   "execution_count": 8,
   "id": "a48a928f-622d-4e60-9ff8-a94e47d8c22a",
   "metadata": {},
   "outputs": [],
   "source": [
    "#zeroes and #ones"
   ]
  },
  {
   "cell_type": "code",
   "execution_count": 11,
   "id": "d17cc543-b98d-4a1f-b5db-02d818ffad23",
   "metadata": {},
   "outputs": [
    {
     "data": {
      "text/plain": [
       "array([0., 0., 0.])"
      ]
     },
     "execution_count": 11,
     "metadata": {},
     "output_type": "execute_result"
    }
   ],
   "source": [
    "np.zeros(3)"
   ]
  },
  {
   "cell_type": "code",
   "execution_count": 12,
   "id": "0260f840-7ead-496e-a59c-4a9c789652f7",
   "metadata": {},
   "outputs": [
    {
     "data": {
      "text/plain": [
       "array([1., 1., 1., 1., 1., 1., 1., 1., 1., 1.])"
      ]
     },
     "execution_count": 12,
     "metadata": {},
     "output_type": "execute_result"
    }
   ],
   "source": [
    "np.ones(10)"
   ]
  },
  {
   "cell_type": "code",
   "execution_count": 16,
   "id": "da890ee8-5046-425e-abe8-9dec563c29fc",
   "metadata": {},
   "outputs": [
    {
     "data": {
      "text/plain": [
       "array([ 0. ,  2.5,  5. ,  7.5, 10. ])"
      ]
     },
     "execution_count": 16,
     "metadata": {},
     "output_type": "execute_result"
    }
   ],
   "source": [
    "#linspace\n",
    "np.linspace(0,10,5)"
   ]
  },
  {
   "cell_type": "code",
   "execution_count": 17,
   "id": "f12aa055-6f9a-4aaa-ae7d-70aa9d8169aa",
   "metadata": {},
   "outputs": [
    {
     "data": {
      "text/plain": [
       "array([ 0.,  1.,  2.,  3.,  4.,  5.,  6.,  7.,  8.,  9., 10.])"
      ]
     },
     "execution_count": 17,
     "metadata": {},
     "output_type": "execute_result"
    }
   ],
   "source": [
    "np.linspace(0,10,11)"
   ]
  },
  {
   "cell_type": "code",
   "execution_count": 19,
   "id": "184fc7b9-9c46-4f51-880f-c44635a8503e",
   "metadata": {},
   "outputs": [
    {
     "data": {
      "text/plain": [
       "array([[1., 0., 0., 0.],\n",
       "       [0., 1., 0., 0.],\n",
       "       [0., 0., 1., 0.],\n",
       "       [0., 0., 0., 1.]])"
      ]
     },
     "execution_count": 19,
     "metadata": {},
     "output_type": "execute_result"
    }
   ],
   "source": [
    "np.eye(4)"
   ]
  },
  {
   "cell_type": "code",
   "execution_count": 22,
   "id": "f7b1ea5e-e952-4352-add8-5c5ea93e4393",
   "metadata": {},
   "outputs": [],
   "source": [
    "#random numbers [0 1] uniformely distributed"
   ]
  },
  {
   "cell_type": "markdown",
   "id": "63c3f6ec-588a-444b-beee-0e9990eb8340",
   "metadata": {},
   "source": [
    "np.random.rand(3)"
   ]
  },
  {
   "cell_type": "code",
   "execution_count": 23,
   "id": "1977ac8a-1dbc-45d2-8b1c-a92188c02846",
   "metadata": {},
   "outputs": [
    {
     "data": {
      "text/plain": [
       "array([0.55734028, 0.9202394 , 0.23591982])"
      ]
     },
     "execution_count": 23,
     "metadata": {},
     "output_type": "execute_result"
    }
   ],
   "source": [
    "np.random.rand(3)"
   ]
  },
  {
   "cell_type": "code",
   "execution_count": 24,
   "id": "25fe77af-707f-4cbd-8115-041c36f76419",
   "metadata": {},
   "outputs": [
    {
     "data": {
      "text/plain": [
       "array([ 0.77576317, -0.79072204,  0.56549514])"
      ]
     },
     "execution_count": 24,
     "metadata": {},
     "output_type": "execute_result"
    }
   ],
   "source": [
    "np.random.randn(3)#normally distributed"
   ]
  },
  {
   "cell_type": "code",
   "execution_count": 25,
   "id": "2754e1c3-a7be-4e12-a897-3018db41a11a",
   "metadata": {},
   "outputs": [
    {
     "data": {
      "text/plain": [
       "array([[-0.49521818,  0.07333257, -0.22969243],\n",
       "       [-0.44352009, -1.88416589,  0.37657546],\n",
       "       [ 1.56874508, -0.29689397, -0.87189007]])"
      ]
     },
     "execution_count": 25,
     "metadata": {},
     "output_type": "execute_result"
    }
   ],
   "source": [
    "np.random.randn(3,3)"
   ]
  },
  {
   "cell_type": "code",
   "execution_count": 27,
   "id": "cdf46c7b-5af9-4f75-a0c2-ffbc72a74240",
   "metadata": {},
   "outputs": [
    {
     "data": {
      "text/plain": [
       "array([61, 14, 81, 50, 23, 19, 17, 89, 81, 15])"
      ]
     },
     "execution_count": 27,
     "metadata": {},
     "output_type": "execute_result"
    }
   ],
   "source": [
    "np.random.randint(10,100,10)"
   ]
  },
  {
   "cell_type": "code",
   "execution_count": 28,
   "id": "fdf5c3d6-a5f9-42f0-b7c3-06202d587b5d",
   "metadata": {},
   "outputs": [],
   "source": [
    "#array attributes"
   ]
  },
  {
   "cell_type": "code",
   "execution_count": 29,
   "id": "c146ae63-3c1f-4a87-a40e-79cf60394a93",
   "metadata": {},
   "outputs": [
    {
     "data": {
      "text/plain": [
       "array([[0., 0., 0.],\n",
       "       [0., 0., 0.],\n",
       "       [0., 0., 0.]])"
      ]
     },
     "execution_count": 29,
     "metadata": {},
     "output_type": "execute_result"
    }
   ],
   "source": [
    "np.zeros((3,3))"
   ]
  },
  {
   "cell_type": "code",
   "execution_count": 31,
   "id": "555ba639-42b5-4701-8cc0-b3efb84a920b",
   "metadata": {},
   "outputs": [
    {
     "data": {
      "text/plain": [
       "array([[1., 1., 1.],\n",
       "       [1., 1., 1.],\n",
       "       [1., 1., 1.]])"
      ]
     },
     "execution_count": 31,
     "metadata": {},
     "output_type": "execute_result"
    }
   ],
   "source": [
    "np.ones((3,3))"
   ]
  },
  {
   "cell_type": "code",
   "execution_count": 34,
   "id": "ae6f3631-7e62-418d-aea7-6aa07b9341a2",
   "metadata": {},
   "outputs": [],
   "source": [
    "a=np.random.randint(1,20,9)"
   ]
  },
  {
   "cell_type": "code",
   "execution_count": 35,
   "id": "9e3aa342-d3e7-4bba-abdc-184d08fa7bd0",
   "metadata": {},
   "outputs": [],
   "source": [
    "a=a.reshape(3,3)"
   ]
  },
  {
   "cell_type": "code",
   "execution_count": 36,
   "id": "f94aa977-7aa2-4525-aad6-21be55fe4bac",
   "metadata": {},
   "outputs": [
    {
     "data": {
      "text/plain": [
       "array([[14,  2,  6],\n",
       "       [ 8,  3,  5],\n",
       "       [19,  4,  1]])"
      ]
     },
     "execution_count": 36,
     "metadata": {},
     "output_type": "execute_result"
    }
   ],
   "source": [
    "a"
   ]
  },
  {
   "cell_type": "code",
   "execution_count": 39,
   "id": "e9c50e47-5b94-48a3-864c-67598ca642c1",
   "metadata": {},
   "outputs": [
    {
     "data": {
      "text/plain": [
       "(19, 1, 6, 8)"
      ]
     },
     "execution_count": 39,
     "metadata": {},
     "output_type": "execute_result"
    }
   ],
   "source": [
    "a.max(),a.min(),a.argmax(),a.argmin()"
   ]
  },
  {
   "cell_type": "code",
   "execution_count": 40,
   "id": "3ba645b1-6320-490e-b329-60f8216ab7f6",
   "metadata": {},
   "outputs": [
    {
     "data": {
      "text/plain": [
       "14"
      ]
     },
     "execution_count": 40,
     "metadata": {},
     "output_type": "execute_result"
    }
   ],
   "source": [
    "a[0][0]"
   ]
  },
  {
   "cell_type": "code",
   "execution_count": 41,
   "id": "afe39847-8700-4067-a46d-e770fce75a05",
   "metadata": {},
   "outputs": [],
   "source": [
    "b=a.reshape(9,1)"
   ]
  },
  {
   "cell_type": "code",
   "execution_count": 42,
   "id": "ec9891c0-e2ed-48c0-b690-92fe404cdc82",
   "metadata": {},
   "outputs": [
    {
     "data": {
      "text/plain": [
       "array([[14],\n",
       "       [ 2],\n",
       "       [ 6],\n",
       "       [ 8],\n",
       "       [ 3],\n",
       "       [ 5],\n",
       "       [19],\n",
       "       [ 4],\n",
       "       [ 1]])"
      ]
     },
     "execution_count": 42,
     "metadata": {},
     "output_type": "execute_result"
    }
   ],
   "source": [
    "b"
   ]
  },
  {
   "cell_type": "code",
   "execution_count": 43,
   "id": "0393a591-7cc3-440a-8e6c-24202bd4123e",
   "metadata": {},
   "outputs": [],
   "source": [
    "#Airthmetic Operation\n"
   ]
  },
  {
   "cell_type": "code",
   "execution_count": 45,
   "id": "d8a3f293-175c-499e-8787-5982f074dede",
   "metadata": {},
   "outputs": [
    {
     "data": {
      "text/plain": [
       "array([[14,  2,  6],\n",
       "       [ 8,  3,  5],\n",
       "       [19,  4,  1]])"
      ]
     },
     "execution_count": 45,
     "metadata": {},
     "output_type": "execute_result"
    }
   ],
   "source": [
    "a"
   ]
  },
  {
   "cell_type": "code",
   "execution_count": 47,
   "id": "32dcb6f8-d97d-43b4-8298-d91ac0de6fed",
   "metadata": {},
   "outputs": [
    {
     "data": {
      "text/plain": [
       "array([[28,  4, 12],\n",
       "       [16,  6, 10],\n",
       "       [38,  8,  2]])"
      ]
     },
     "execution_count": 47,
     "metadata": {},
     "output_type": "execute_result"
    }
   ],
   "source": [
    "a*2"
   ]
  },
  {
   "cell_type": "code",
   "execution_count": 48,
   "id": "5826a635-dbe7-45e7-82af-a3e2f75ceb80",
   "metadata": {},
   "outputs": [],
   "source": [
    "a=np.sqrt(a)"
   ]
  },
  {
   "cell_type": "code",
   "execution_count": 49,
   "id": "74edf8e6-6417-430a-a86e-30437ce1163e",
   "metadata": {},
   "outputs": [
    {
     "data": {
      "text/plain": [
       "array([[3.74165739, 1.41421356, 2.44948974],\n",
       "       [2.82842712, 1.73205081, 2.23606798],\n",
       "       [4.35889894, 2.        , 1.        ]])"
      ]
     },
     "execution_count": 49,
     "metadata": {},
     "output_type": "execute_result"
    }
   ],
   "source": [
    "a"
   ]
  },
  {
   "cell_type": "code",
   "execution_count": 50,
   "id": "6d7c689a-7bc1-41f9-9376-81f0ccfe2bae",
   "metadata": {},
   "outputs": [
    {
     "data": {
      "text/plain": [
       "array([[42.16782067,  4.11325038, 11.58243519],\n",
       "       [16.91882868,  5.65223367,  9.35646902],\n",
       "       [78.17101632,  7.3890561 ,  2.71828183]])"
      ]
     },
     "execution_count": 50,
     "metadata": {},
     "output_type": "execute_result"
    }
   ],
   "source": [
    "np.exp(a)"
   ]
  },
  {
   "cell_type": "code",
   "execution_count": 51,
   "id": "242cbc68-0552-401a-8fd9-1a517ca57313",
   "metadata": {},
   "outputs": [
    {
     "data": {
      "text/plain": [
       "array([[-0.5646959 ,  0.98776595,  0.63815764],\n",
       "       [ 0.30807174,  0.98702664,  0.78674913],\n",
       "       [-0.93817027,  0.90929743,  0.84147098]])"
      ]
     },
     "execution_count": 51,
     "metadata": {},
     "output_type": "execute_result"
    }
   ],
   "source": [
    "np.sin(a)"
   ]
  },
  {
   "cell_type": "code",
   "execution_count": 52,
   "id": "1e512a72-d5a7-48dd-8ae1-fd82996943eb",
   "metadata": {},
   "outputs": [
    {
     "data": {
      "text/plain": [
       "array([[1.31952866, 0.34657359, 0.89587973],\n",
       "       [1.03972077, 0.54930614, 0.80471896],\n",
       "       [1.47221949, 0.69314718, 0.        ]])"
      ]
     },
     "execution_count": 52,
     "metadata": {},
     "output_type": "execute_result"
    }
   ],
   "source": [
    "np.log(a)"
   ]
  },
  {
   "cell_type": "code",
   "execution_count": 56,
   "id": "404530b2-f0cf-4a7b-abcb-c5491b2ea0ac",
   "metadata": {},
   "outputs": [
    {
     "data": {
      "text/plain": [
       "array([[14.,  2.,  6.],\n",
       "       [ 8.,  3.,  5.],\n",
       "       [19.,  4.,  1.]])"
      ]
     },
     "execution_count": 56,
     "metadata": {},
     "output_type": "execute_result"
    }
   ],
   "source": [
    "#element wise operation\n",
    "a**2"
   ]
  },
  {
   "cell_type": "code",
   "execution_count": 54,
   "id": "2415e943-144c-4d0a-a8f9-7a7f1ede0ccc",
   "metadata": {},
   "outputs": [
    {
     "data": {
      "text/plain": [
       "array([[14.,  2.,  6.],\n",
       "       [ 8.,  3.,  5.],\n",
       "       [19.,  4.,  1.]])"
      ]
     },
     "execution_count": 54,
     "metadata": {},
     "output_type": "execute_result"
    }
   ],
   "source": [
    "a*a"
   ]
  },
  {
   "cell_type": "code",
   "execution_count": 55,
   "id": "17569009-88bd-4c84-a8a4-9bcc9025bc6f",
   "metadata": {},
   "outputs": [
    {
     "data": {
      "text/plain": [
       "array([[1., 1., 1.],\n",
       "       [1., 1., 1.],\n",
       "       [1., 1., 1.]])"
      ]
     },
     "execution_count": 55,
     "metadata": {},
     "output_type": "execute_result"
    }
   ],
   "source": [
    "a/a"
   ]
  },
  {
   "cell_type": "code",
   "execution_count": 57,
   "id": "22a3883c-2bd0-4115-9f39-fd2c8b436b0c",
   "metadata": {},
   "outputs": [
    {
     "data": {
      "text/plain": [
       "2.4178672828095276"
      ]
     },
     "execution_count": 57,
     "metadata": {},
     "output_type": "execute_result"
    }
   ],
   "source": []
  },
  {
   "cell_type": "code",
   "execution_count": null,
   "id": "e18732b8-e009-4ff5-8dfd-e461047896e4",
   "metadata": {},
   "outputs": [],
   "source": []
  }
 ],
 "metadata": {
  "kernelspec": {
   "display_name": "Python 3",
   "language": "python",
   "name": "python3"
  },
  "language_info": {
   "codemirror_mode": {
    "name": "ipython",
    "version": 3
   },
   "file_extension": ".py",
   "mimetype": "text/x-python",
   "name": "python",
   "nbconvert_exporter": "python",
   "pygments_lexer": "ipython3",
   "version": "3.8.5"
  }
 },
 "nbformat": 4,
 "nbformat_minor": 5
}
