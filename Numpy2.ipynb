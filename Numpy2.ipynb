{
 "cells": [
  {
   "cell_type": "code",
   "execution_count": 1,
   "id": "91da7882-0b5f-483c-a08c-9f1505a05322",
   "metadata": {},
   "outputs": [],
   "source": [
    "import numpy as np\n"
   ]
  },
  {
   "cell_type": "code",
   "execution_count": 2,
   "id": "e01593a9-88d3-43e2-b890-a3a52152f296",
   "metadata": {},
   "outputs": [],
   "source": [
    "a=np.array([1,2,3,4])"
   ]
  },
  {
   "cell_type": "code",
   "execution_count": 3,
   "id": "22438305-f3da-481e-b14c-e21057912712",
   "metadata": {},
   "outputs": [
    {
     "data": {
      "text/plain": [
       "array([1, 2, 3, 4])"
      ]
     },
     "execution_count": 3,
     "metadata": {},
     "output_type": "execute_result"
    }
   ],
   "source": [
    "a\n"
   ]
  },
  {
   "cell_type": "code",
   "execution_count": 4,
   "id": "9a0fc051-efb4-43e1-99f4-0eecb16abe92",
   "metadata": {},
   "outputs": [],
   "source": [
    "b=np.array([[1,2,3],[1,2,3]])"
   ]
  },
  {
   "cell_type": "code",
   "execution_count": 5,
   "id": "46b98770-eb86-471b-9d51-0108bd9922c6",
   "metadata": {},
   "outputs": [
    {
     "data": {
      "text/plain": [
       "array([[1, 2, 3],\n",
       "       [1, 2, 3]])"
      ]
     },
     "execution_count": 5,
     "metadata": {},
     "output_type": "execute_result"
    }
   ],
   "source": [
    "b"
   ]
  },
  {
   "cell_type": "code",
   "execution_count": 6,
   "id": "f47bfdb6-b9c0-4e82-9bb9-3a54d7894f18",
   "metadata": {},
   "outputs": [
    {
     "data": {
      "text/plain": [
       "(2, 3)"
      ]
     },
     "execution_count": 6,
     "metadata": {},
     "output_type": "execute_result"
    }
   ],
   "source": [
    "b.shape"
   ]
  },
  {
   "cell_type": "code",
   "execution_count": 7,
   "id": "45c24497-9e06-45f9-a5ce-c7864424d75f",
   "metadata": {},
   "outputs": [
    {
     "data": {
      "text/plain": [
       "(4,)"
      ]
     },
     "execution_count": 7,
     "metadata": {},
     "output_type": "execute_result"
    }
   ],
   "source": [
    "a.shape"
   ]
  },
  {
   "cell_type": "code",
   "execution_count": 8,
   "id": "7b155527-cba2-435a-83c4-8fe34104c352",
   "metadata": {},
   "outputs": [
    {
     "data": {
      "text/plain": [
       "dtype('int64')"
      ]
     },
     "execution_count": 8,
     "metadata": {},
     "output_type": "execute_result"
    }
   ],
   "source": [
    "b.dtype"
   ]
  },
  {
   "cell_type": "code",
   "execution_count": 9,
   "id": "e2cb6f09-d1fe-4ea4-97b0-9b967eed0d19",
   "metadata": {},
   "outputs": [
    {
     "data": {
      "text/plain": [
       "2"
      ]
     },
     "execution_count": 9,
     "metadata": {},
     "output_type": "execute_result"
    }
   ],
   "source": [
    "b.ndim"
   ]
  },
  {
   "cell_type": "code",
   "execution_count": 10,
   "id": "8cbe3654-9a7d-402c-8008-4e4e17190c53",
   "metadata": {},
   "outputs": [
    {
     "name": "stdout",
     "output_type": "stream",
     "text": [
      "<class 'numpy.ndarray'>\n"
     ]
    }
   ],
   "source": [
    "print(type(a))"
   ]
  },
  {
   "cell_type": "code",
   "execution_count": 11,
   "id": "9ccea1d0-abdd-457b-a265-fbec9f0d9672",
   "metadata": {},
   "outputs": [
    {
     "name": "stdout",
     "output_type": "stream",
     "text": [
      "<class 'numpy.ndarray'>\n"
     ]
    }
   ],
   "source": [
    "print(type(b))"
   ]
  },
  {
   "cell_type": "code",
   "execution_count": 12,
   "id": "a8f31e6e-53e4-4338-9498-1ddc4a2644cc",
   "metadata": {},
   "outputs": [
    {
     "data": {
      "text/plain": [
       "array([ 0,  1,  2,  3,  4,  5,  6,  7,  8,  9, 10, 11, 12, 13, 14, 15, 16,\n",
       "       17, 18, 19, 20, 21, 22, 23, 24, 25, 26, 27, 28, 29, 30, 31, 32, 33,\n",
       "       34, 35, 36, 37, 38, 39, 40, 41, 42, 43, 44, 45, 46, 47, 48, 49, 50,\n",
       "       51, 52, 53, 54, 55, 56, 57, 58, 59, 60, 61, 62, 63, 64, 65, 66, 67,\n",
       "       68, 69, 70, 71, 72, 73, 74, 75, 76, 77, 78, 79, 80, 81, 82, 83, 84,\n",
       "       85, 86, 87, 88, 89, 90, 91, 92, 93, 94, 95, 96, 97, 98, 99])"
      ]
     },
     "execution_count": 12,
     "metadata": {},
     "output_type": "execute_result"
    }
   ],
   "source": [
    "np.arange(100)"
   ]
  },
  {
   "cell_type": "code",
   "execution_count": 13,
   "id": "4c4c2503-9d2d-4335-8861-f2800bab45e3",
   "metadata": {},
   "outputs": [],
   "source": [
    "c=range(100000)"
   ]
  },
  {
   "cell_type": "code",
   "execution_count": 14,
   "id": "799daade-7e02-40c2-9f5c-cadbae12acbb",
   "metadata": {},
   "outputs": [],
   "source": [
    "c\n",
    "%timeit"
   ]
  },
  {
   "cell_type": "code",
   "execution_count": 15,
   "id": "eb6f4f54-344a-4be3-bc55-39b10f5b4837",
   "metadata": {},
   "outputs": [
    {
     "name": "stdout",
     "output_type": "stream",
     "text": [
      "36.8 ms ± 2.04 ms per loop (mean ± std. dev. of 7 runs, 10 loops each)\n"
     ]
    }
   ],
   "source": [
    "%timeit [i**3 for i in c]"
   ]
  },
  {
   "cell_type": "code",
   "execution_count": 16,
   "id": "612dffd9-8cb3-41ab-9197-6a4d138087ab",
   "metadata": {},
   "outputs": [],
   "source": [
    "c_numpy=np.arange(11000000)"
   ]
  },
  {
   "cell_type": "code",
   "execution_count": 17,
   "id": "971cae1f-b144-4bfa-9fa4-35292363aa7d",
   "metadata": {},
   "outputs": [
    {
     "name": "stdout",
     "output_type": "stream",
     "text": [
      "178 ms ± 61.5 ms per loop (mean ± std. dev. of 7 runs, 1 loop each)\n"
     ]
    }
   ],
   "source": [
    "%timeit c_numpy**3"
   ]
  },
  {
   "cell_type": "code",
   "execution_count": 18,
   "id": "7c357139-2ab7-4725-a0e7-6954c9d317de",
   "metadata": {},
   "outputs": [],
   "source": [
    "l1=range(1000)\n",
    "l2 =[i**2 for i in range(10000)]"
   ]
  },
  {
   "cell_type": "code",
   "execution_count": 19,
   "id": "1d6fe1a0-0eca-4d57-8b8e-934b18c071ff",
   "metadata": {},
   "outputs": [
    {
     "name": "stdout",
     "output_type": "stream",
     "text": [
      "129 µs ± 4.93 µs per loop (mean ± std. dev. of 7 runs, 10000 loops each)\n"
     ]
    }
   ],
   "source": [
    "%timeit list(map(lambda x,y:x*y,l1,l2))"
   ]
  },
  {
   "cell_type": "code",
   "execution_count": null,
   "id": "7ebc3ed5-175f-4c11-8403-fb0617efea59",
   "metadata": {},
   "outputs": [],
   "source": [
    "np.zeros(3)"
   ]
  },
  {
   "cell_type": "code",
   "execution_count": null,
   "id": "e64e6241-b6cf-4622-9319-5356dadcfd44",
   "metadata": {},
   "outputs": [],
   "source": [
    "np.ones((3,2))"
   ]
  },
  {
   "cell_type": "code",
   "execution_count": null,
   "id": "9e91bbb2-1d42-4691-9fa5-e9ea19587090",
   "metadata": {},
   "outputs": [],
   "source": [
    "np.eye(4)"
   ]
  },
  {
   "cell_type": "code",
   "execution_count": null,
   "id": "bce868a7-3ee2-48cd-a697-0dfda4864fa3",
   "metadata": {},
   "outputs": [],
   "source": [
    "np.full((3,3),2.2,dtype=np.int)"
   ]
  },
  {
   "cell_type": "code",
   "execution_count": 35,
   "id": "0bdc07b9-cc23-47b4-8c69-792e564fdfd9",
   "metadata": {},
   "outputs": [
    {
     "data": {
      "text/plain": [
       "array([[1, 0, 0, 0],\n",
       "       [0, 2, 0, 0],\n",
       "       [0, 0, 3, 0],\n",
       "       [0, 0, 0, 4]])"
      ]
     },
     "execution_count": 35,
     "metadata": {},
     "output_type": "execute_result"
    }
   ],
   "source": [
    "np.diag([1,2,3,4])"
   ]
  },
  {
   "cell_type": "code",
   "execution_count": 37,
   "id": "fa0a5135-f7c5-451e-bdbd-2054a6338f72",
   "metadata": {},
   "outputs": [],
   "source": [
    "v=np.array([1,2,3])"
   ]
  },
  {
   "cell_type": "code",
   "execution_count": 38,
   "id": "f722bb84-c0ee-405b-a004-327838d2d54c",
   "metadata": {},
   "outputs": [
    {
     "data": {
      "text/plain": [
       "array([1, 2, 3])"
      ]
     },
     "execution_count": 38,
     "metadata": {},
     "output_type": "execute_result"
    }
   ],
   "source": [
    "v"
   ]
  },
  {
   "cell_type": "code",
   "execution_count": 44,
   "id": "5111a060-4aa5-495a-9d1a-26bbd97b8702",
   "metadata": {},
   "outputs": [
    {
     "data": {
      "text/plain": [
       "array([[1, 2, 3, 1, 2, 3, 1, 2, 3],\n",
       "       [1, 2, 3, 1, 2, 3, 1, 2, 3],\n",
       "       [1, 2, 3, 1, 2, 3, 1, 2, 3],\n",
       "       [1, 2, 3, 1, 2, 3, 1, 2, 3],\n",
       "       [1, 2, 3, 1, 2, 3, 1, 2, 3]])"
      ]
     },
     "execution_count": 44,
     "metadata": {},
     "output_type": "execute_result"
    }
   ],
   "source": [
    "np.tile(v,(5,3))"
   ]
  },
  {
   "cell_type": "code",
   "execution_count": 45,
   "id": "afb2bfc4-ea91-4ea8-b546-e26c38acec9b",
   "metadata": {},
   "outputs": [
    {
     "data": {
      "text/plain": [
       "36.72714644316898"
      ]
     },
     "execution_count": 45,
     "metadata": {},
     "output_type": "execute_result"
    }
   ],
   "source": [
    "50*np.random.random()+2"
   ]
  },
  {
   "cell_type": "code",
   "execution_count": 46,
   "id": "4b714807-e071-4308-9646-de874678ed02",
   "metadata": {},
   "outputs": [
    {
     "data": {
      "text/plain": [
       "array([[7.61309971e-01, 1.89626876e-01],\n",
       "       [4.80983811e-04, 3.69578510e-01]])"
      ]
     },
     "execution_count": 46,
     "metadata": {},
     "output_type": "execute_result"
    }
   ],
   "source": [
    "np.random.random([2,2])"
   ]
  },
  {
   "cell_type": "code",
   "execution_count": 49,
   "id": "48a6623d-2c3c-4abe-b68f-7878857281cc",
   "metadata": {},
   "outputs": [],
   "source": [
    "#lecture 2\n",
    "a=np.linspace(1,50,100)"
   ]
  },
  {
   "cell_type": "code",
   "execution_count": 48,
   "id": "802834f5-904e-4b0c-9e5f-409a60394419",
   "metadata": {},
   "outputs": [
    {
     "data": {
      "text/plain": [
       "array([  1.        ,   6.04040404,  11.08080808,  16.12121212,\n",
       "        21.16161616,  26.2020202 ,  31.24242424,  36.28282828,\n",
       "        41.32323232,  46.36363636,  51.4040404 ,  56.44444444,\n",
       "        61.48484848,  66.52525253,  71.56565657,  76.60606061,\n",
       "        81.64646465,  86.68686869,  91.72727273,  96.76767677,\n",
       "       101.80808081, 106.84848485, 111.88888889, 116.92929293,\n",
       "       121.96969697, 127.01010101, 132.05050505, 137.09090909,\n",
       "       142.13131313, 147.17171717, 152.21212121, 157.25252525,\n",
       "       162.29292929, 167.33333333, 172.37373737, 177.41414141,\n",
       "       182.45454545, 187.49494949, 192.53535354, 197.57575758,\n",
       "       202.61616162, 207.65656566, 212.6969697 , 217.73737374,\n",
       "       222.77777778, 227.81818182, 232.85858586, 237.8989899 ,\n",
       "       242.93939394, 247.97979798, 253.02020202, 258.06060606,\n",
       "       263.1010101 , 268.14141414, 273.18181818, 278.22222222,\n",
       "       283.26262626, 288.3030303 , 293.34343434, 298.38383838,\n",
       "       303.42424242, 308.46464646, 313.50505051, 318.54545455,\n",
       "       323.58585859, 328.62626263, 333.66666667, 338.70707071,\n",
       "       343.74747475, 348.78787879, 353.82828283, 358.86868687,\n",
       "       363.90909091, 368.94949495, 373.98989899, 379.03030303,\n",
       "       384.07070707, 389.11111111, 394.15151515, 399.19191919,\n",
       "       404.23232323, 409.27272727, 414.31313131, 419.35353535,\n",
       "       424.39393939, 429.43434343, 434.47474747, 439.51515152,\n",
       "       444.55555556, 449.5959596 , 454.63636364, 459.67676768,\n",
       "       464.71717172, 469.75757576, 474.7979798 , 479.83838384,\n",
       "       484.87878788, 489.91919192, 494.95959596, 500.        ])"
      ]
     },
     "execution_count": 48,
     "metadata": {},
     "output_type": "execute_result"
    }
   ],
   "source": [
    "a"
   ]
  },
  {
   "cell_type": "code",
   "execution_count": 50,
   "id": "d5b81dda-fcd6-4d0f-a750-3b5f54d637bb",
   "metadata": {},
   "outputs": [
    {
     "data": {
      "text/plain": [
       "8"
      ]
     },
     "execution_count": 50,
     "metadata": {},
     "output_type": "execute_result"
    }
   ],
   "source": [
    "a.itemsize"
   ]
  },
  {
   "cell_type": "code",
   "execution_count": 51,
   "id": "012b5206-1cf8-4e5f-a581-625565b9b95a",
   "metadata": {},
   "outputs": [
    {
     "data": {
      "text/plain": [
       "(18,)"
      ]
     },
     "execution_count": 51,
     "metadata": {},
     "output_type": "execute_result"
    }
   ],
   "source": [
    "np.arange(18).shape"
   ]
  },
  {
   "cell_type": "code",
   "execution_count": 52,
   "id": "1a3fdd51-676f-498c-91ac-61c6293ce1a9",
   "metadata": {},
   "outputs": [
    {
     "data": {
      "text/plain": [
       "array([[[ 0,  1,  2],\n",
       "        [ 3,  4,  5],\n",
       "        [ 6,  7,  8]],\n",
       "\n",
       "       [[ 9, 10, 11],\n",
       "        [12, 13, 14],\n",
       "        [15, 16, 17]]])"
      ]
     },
     "execution_count": 52,
     "metadata": {},
     "output_type": "execute_result"
    }
   ],
   "source": [
    "b=np.arange(18).reshape(2,3,3)"
   ]
  },
  {
   "cell_type": "code",
   "execution_count": 54,
   "id": "98163b1b-0363-480c-af27-7e18caa8d95b",
   "metadata": {},
   "outputs": [
    {
     "data": {
      "text/plain": [
       "(2, 3)"
      ]
     },
     "execution_count": 54,
     "metadata": {},
     "output_type": "execute_result"
    }
   ],
   "source": [
    "b.shape\n"
   ]
  },
  {
   "cell_type": "code",
   "execution_count": 55,
   "id": "c882892d-6c17-456a-a620-d2800f7580ee",
   "metadata": {},
   "outputs": [
    {
     "data": {
      "text/plain": [
       "array([[[ 0,  1,  2],\n",
       "        [ 3,  4,  5],\n",
       "        [ 6,  7,  8]],\n",
       "\n",
       "       [[ 9, 10, 11],\n",
       "        [12, 13, 14],\n",
       "        [15, 16, 17]]])"
      ]
     },
     "execution_count": 55,
     "metadata": {},
     "output_type": "execute_result"
    }
   ],
   "source": [
    "np.arange(18).reshape(2,3,-1)"
   ]
  },
  {
   "cell_type": "code",
   "execution_count": 56,
   "id": "a15d80c1-a617-4d6c-a06c-9394e6155d4b",
   "metadata": {},
   "outputs": [],
   "source": [
    "a=np.array(range(20))"
   ]
  },
  {
   "cell_type": "code",
   "execution_count": 57,
   "id": "1b8c89f2-ee0b-4735-94dc-8f10775b7e72",
   "metadata": {},
   "outputs": [
    {
     "data": {
      "text/plain": [
       "0"
      ]
     },
     "execution_count": 57,
     "metadata": {},
     "output_type": "execute_result"
    }
   ],
   "source": [
    "a[0]"
   ]
  },
  {
   "cell_type": "code",
   "execution_count": 59,
   "id": "e9031981-7561-4a0b-8c7e-739e0c046dbd",
   "metadata": {},
   "outputs": [
    {
     "data": {
      "text/plain": [
       "array([2, 4, 6])"
      ]
     },
     "execution_count": 59,
     "metadata": {},
     "output_type": "execute_result"
    }
   ],
   "source": [
    "a[[2,4,6]]#pass it as a buundle list"
   ]
  },
  {
   "cell_type": "code",
   "execution_count": 60,
   "id": "4653327b-1762-404e-a697-6b813fe4e116",
   "metadata": {},
   "outputs": [
    {
     "data": {
      "text/plain": [
       "array([ 2,  3,  4,  5,  6,  7,  8,  9, 10, 11, 12, 13, 14, 15, 16, 17, 18,\n",
       "       19])"
      ]
     },
     "execution_count": 60,
     "metadata": {},
     "output_type": "execute_result"
    }
   ],
   "source": [
    "a[2:]"
   ]
  },
  {
   "cell_type": "code",
   "execution_count": 61,
   "id": "bfb137f8-453e-4fd0-91b8-10e567cd83af",
   "metadata": {},
   "outputs": [
    {
     "data": {
      "text/plain": [
       "array([2, 3, 4, 5])"
      ]
     },
     "execution_count": 61,
     "metadata": {},
     "output_type": "execute_result"
    }
   ],
   "source": [
    "a[2:6]"
   ]
  },
  {
   "cell_type": "code",
   "execution_count": 62,
   "id": "2c7d179a-28df-45f7-9cac-93fe689ed1f3",
   "metadata": {},
   "outputs": [
    {
     "data": {
      "text/plain": [
       "array([ 0,  2,  4,  6,  8, 10, 12, 14, 16, 18])"
      ]
     },
     "execution_count": 62,
     "metadata": {},
     "output_type": "execute_result"
    }
   ],
   "source": [
    "a[0::2]"
   ]
  },
  {
   "cell_type": "code",
   "execution_count": 63,
   "id": "c548c59a-16a4-4aa5-9c0b-3610c16cb5a4",
   "metadata": {},
   "outputs": [],
   "source": [
    "a=np.array([[1,2,3],[2,5,6],[7,8,9]])"
   ]
  },
  {
   "cell_type": "code",
   "execution_count": 64,
   "id": "19a43023-0bc4-44e1-b1d1-803c76e8d675",
   "metadata": {},
   "outputs": [
    {
     "data": {
      "text/plain": [
       "9"
      ]
     },
     "execution_count": 64,
     "metadata": {},
     "output_type": "execute_result"
    }
   ],
   "source": [
    "a[2,2]"
   ]
  },
  {
   "cell_type": "code",
   "execution_count": 23,
   "id": "21314970-7f49-4a85-b89c-f44adf186f4b",
   "metadata": {},
   "outputs": [
    {
     "data": {
      "text/plain": [
       "array([3, 4])"
      ]
     },
     "execution_count": 23,
     "metadata": {},
     "output_type": "execute_result"
    }
   ],
   "source": [
    "a[(a>2)&(a<5)]"
   ]
  },
  {
   "cell_type": "code",
   "execution_count": 24,
   "id": "fb005354-9a71-403e-aad3-06ec7229a3cb",
   "metadata": {},
   "outputs": [],
   "source": [
    "b=a\n"
   ]
  },
  {
   "cell_type": "code",
   "execution_count": 25,
   "id": "12a4d99b-dede-488f-8fff-064c9e42d741",
   "metadata": {},
   "outputs": [],
   "source": [
    "b[0]=11"
   ]
  },
  {
   "cell_type": "code",
   "execution_count": 26,
   "id": "145688ec-490a-4ca4-b831-1ec744a93700",
   "metadata": {},
   "outputs": [
    {
     "data": {
      "text/plain": [
       "array([11,  2,  3,  4])"
      ]
     },
     "execution_count": 26,
     "metadata": {},
     "output_type": "execute_result"
    }
   ],
   "source": [
    "a"
   ]
  },
  {
   "cell_type": "code",
   "execution_count": 27,
   "id": "4bb9df83-43de-4d86-9554-d1f1f7215ad3",
   "metadata": {},
   "outputs": [],
   "source": [
    "# bcoz it save it in same memory location\n"
   ]
  },
  {
   "cell_type": "code",
   "execution_count": 28,
   "id": "1c88037d-c885-4ff4-8980-d45238a104ff",
   "metadata": {},
   "outputs": [
    {
     "data": {
      "text/plain": [
       "True"
      ]
     },
     "execution_count": 28,
     "metadata": {},
     "output_type": "execute_result"
    }
   ],
   "source": [
    "np.shares_memory(a,b)"
   ]
  },
  {
   "cell_type": "code",
   "execution_count": 29,
   "id": "c70a76e4-da73-44bc-bcd4-fff43d86ab29",
   "metadata": {},
   "outputs": [],
   "source": [
    "a=b.copy()"
   ]
  },
  {
   "cell_type": "code",
   "execution_count": 30,
   "id": "c114b0bb-5e85-4798-880c-643908544ccf",
   "metadata": {},
   "outputs": [
    {
     "data": {
      "text/plain": [
       "array([11,  2,  3,  4])"
      ]
     },
     "execution_count": 30,
     "metadata": {},
     "output_type": "execute_result"
    }
   ],
   "source": [
    "a"
   ]
  },
  {
   "cell_type": "code",
   "execution_count": 31,
   "id": "e4c2f0d2-69d0-4f2c-bcb7-947eff20b531",
   "metadata": {},
   "outputs": [
    {
     "data": {
      "text/plain": [
       "array([11,  2,  3,  4])"
      ]
     },
     "execution_count": 31,
     "metadata": {},
     "output_type": "execute_result"
    }
   ],
   "source": [
    "b"
   ]
  },
  {
   "cell_type": "code",
   "execution_count": 32,
   "id": "b22bcf51-e1d3-4301-b5fc-b4c24cb27788",
   "metadata": {},
   "outputs": [
    {
     "data": {
      "text/plain": [
       "array([11,  2,  3,  4])"
      ]
     },
     "execution_count": 32,
     "metadata": {},
     "output_type": "execute_result"
    }
   ],
   "source": [
    "a.T"
   ]
  },
  {
   "cell_type": "code",
   "execution_count": 33,
   "id": "7a186195-94d1-4772-b021-b8cbfe216b61",
   "metadata": {},
   "outputs": [
    {
     "data": {
      "text/plain": [
       "array([ True,  True,  True,  True])"
      ]
     },
     "execution_count": 33,
     "metadata": {},
     "output_type": "execute_result"
    }
   ],
   "source": [
    "a==b"
   ]
  },
  {
   "cell_type": "code",
   "execution_count": 34,
   "id": "08e8353f-4665-4e7b-8ef2-adaf868ed61a",
   "metadata": {},
   "outputs": [
    {
     "data": {
      "text/plain": [
       "array([[11,  2,  3,  4],\n",
       "       [11,  2,  3,  4]])"
      ]
     },
     "execution_count": 34,
     "metadata": {},
     "output_type": "execute_result"
    }
   ],
   "source": [
    "np.vstack((a,b))"
   ]
  },
  {
   "cell_type": "code",
   "execution_count": 35,
   "id": "dc84de64-39e2-4c6f-adce-4e438df219c7",
   "metadata": {},
   "outputs": [
    {
     "data": {
      "text/plain": [
       "array([11,  2,  3,  4, 11,  2,  3,  4])"
      ]
     },
     "execution_count": 35,
     "metadata": {},
     "output_type": "execute_result"
    }
   ],
   "source": [
    "np.hstack((a,b))"
   ]
  },
  {
   "cell_type": "code",
   "execution_count": 36,
   "id": "95016f7a-3c2d-409c-9564-bbd4eb3f32a3",
   "metadata": {},
   "outputs": [
    {
     "data": {
      "text/plain": [
       "array([ 0.0044257 , -0.41614684, -0.9899925 , -0.65364362])"
      ]
     },
     "execution_count": 36,
     "metadata": {},
     "output_type": "execute_result"
    }
   ],
   "source": [
    "np.cos(a)\n"
   ]
  },
  {
   "cell_type": "code",
   "execution_count": 37,
   "id": "939e93a7-7792-4a56-a337-dc880e93907a",
   "metadata": {},
   "outputs": [
    {
     "data": {
      "text/plain": [
       "<ufunc 'cos'>"
      ]
     },
     "execution_count": 37,
     "metadata": {},
     "output_type": "execute_result"
    }
   ],
   "source": [
    "np.cos"
   ]
  },
  {
   "cell_type": "code",
   "execution_count": 38,
   "id": "756101bf-58d6-4915-8d5b-29f2c0a5d8a4",
   "metadata": {},
   "outputs": [
    {
     "data": {
      "text/plain": [
       "20"
      ]
     },
     "execution_count": 38,
     "metadata": {},
     "output_type": "execute_result"
    }
   ],
   "source": [
    "np.sum(a)"
   ]
  },
  {
   "cell_type": "code",
   "execution_count": 39,
   "id": "ddb33d13-55fc-4151-8d9b-97b0964aa1fe",
   "metadata": {},
   "outputs": [
    {
     "data": {
      "text/plain": [
       "3.5"
      ]
     },
     "execution_count": 39,
     "metadata": {},
     "output_type": "execute_result"
    }
   ],
   "source": [
    "np.median(a)"
   ]
  },
  {
   "cell_type": "code",
   "execution_count": 40,
   "id": "d970e8c4-4029-457a-8a09-804e48673599",
   "metadata": {},
   "outputs": [
    {
     "data": {
      "text/plain": [
       "3.5355339059327378"
      ]
     },
     "execution_count": 40,
     "metadata": {},
     "output_type": "execute_result"
    }
   ],
   "source": [
    "np.std(a)"
   ]
  },
  {
   "cell_type": "code",
   "execution_count": 41,
   "id": "5b40af26-e14f-4c5e-9d68-652ad3ba93d5",
   "metadata": {},
   "outputs": [
    {
     "data": {
      "text/plain": [
       "array([11,  2,  3,  4])"
      ]
     },
     "execution_count": 41,
     "metadata": {},
     "output_type": "execute_result"
    }
   ],
   "source": [
    "a"
   ]
  },
  {
   "cell_type": "code",
   "execution_count": 42,
   "id": "f4b8565d-7d11-4817-a940-06b4218879b0",
   "metadata": {},
   "outputs": [],
   "source": [
    "a=np.arange(1,10).reshape(3,3)"
   ]
  },
  {
   "cell_type": "code",
   "execution_count": 43,
   "id": "91b51981-1fd3-4fde-bd62-d61fc1670ea7",
   "metadata": {},
   "outputs": [
    {
     "data": {
      "text/plain": [
       "0.0"
      ]
     },
     "execution_count": 43,
     "metadata": {},
     "output_type": "execute_result"
    }
   ],
   "source": [
    "np.linalg.det(a)"
   ]
  },
  {
   "cell_type": "code",
   "execution_count": 52,
   "id": "14f3ba7b-4749-4062-a386-44e41ee208ea",
   "metadata": {},
   "outputs": [
    {
     "data": {
      "text/plain": [
       "array([ True,  True, False])"
      ]
     },
     "execution_count": 52,
     "metadata": {},
     "output_type": "execute_result"
    }
   ],
   "source": [
    "a"
   ]
  },
  {
   "cell_type": "code",
   "execution_count": 55,
   "id": "0142638d-b103-4ca4-bf59-bdb732c1a7b1",
   "metadata": {},
   "outputs": [
    {
     "data": {
      "text/plain": [
       "array([ True,  True, False])"
      ]
     },
     "execution_count": 55,
     "metadata": {},
     "output_type": "execute_result"
    }
   ],
   "source": [
    "a=np.array([1,1,0],dtype=bool)\n",
    "b=np.array([1,0,0],dtype=bool)\n",
    "np.logical_or(a,b)"
   ]
  },
  {
   "cell_type": "code",
   "execution_count": 56,
   "id": "bf50b2ce-37cc-4ba4-9864-52eb92dcb87a",
   "metadata": {},
   "outputs": [
    {
     "data": {
      "text/plain": [
       "True"
      ]
     },
     "execution_count": 56,
     "metadata": {},
     "output_type": "execute_result"
    }
   ],
   "source": [
    "np.all(a==a)"
   ]
  },
  {
   "cell_type": "code",
   "execution_count": 57,
   "id": "8ea6c5c4-df42-4c43-b648-e7ce06cd015d",
   "metadata": {},
   "outputs": [
    {
     "data": {
      "text/plain": [
       "array([ True, False, False])"
      ]
     },
     "execution_count": 57,
     "metadata": {},
     "output_type": "execute_result"
    }
   ],
   "source": [
    "np.logical_and(a,b)"
   ]
  },
  {
   "cell_type": "code",
   "execution_count": 58,
   "id": "2f580f1d-02d4-4ace-adb4-adceff0e6324",
   "metadata": {},
   "outputs": [
    {
     "data": {
      "text/plain": [
       "True"
      ]
     },
     "execution_count": 58,
     "metadata": {},
     "output_type": "execute_result"
    }
   ],
   "source": [
    "np.all(a==a)"
   ]
  },
  {
   "cell_type": "code",
   "execution_count": 59,
   "id": "98d5335f-bda2-4592-a992-a3e55952ab71",
   "metadata": {},
   "outputs": [],
   "source": [
    "a=np.array([[1,2],[3,4]])"
   ]
  },
  {
   "cell_type": "code",
   "execution_count": 60,
   "id": "af80e818-b40c-4025-8a36-5cb667742153",
   "metadata": {},
   "outputs": [
    {
     "data": {
      "text/plain": [
       "10"
      ]
     },
     "execution_count": 60,
     "metadata": {},
     "output_type": "execute_result"
    }
   ],
   "source": [
    "a.sum()"
   ]
  },
  {
   "cell_type": "code",
   "execution_count": 61,
   "id": "3e8e4820-41ad-48aa-8652-1a9ec6fe484f",
   "metadata": {},
   "outputs": [
    {
     "data": {
      "text/plain": [
       "array([4, 6])"
      ]
     },
     "execution_count": 61,
     "metadata": {},
     "output_type": "execute_result"
    }
   ],
   "source": [
    "a.sum(axis=0)"
   ]
  },
  {
   "cell_type": "code",
   "execution_count": 62,
   "id": "ee826bf5-c303-4e72-bd28-3333f1d8b4f2",
   "metadata": {},
   "outputs": [
    {
     "data": {
      "text/plain": [
       "array([3, 7])"
      ]
     },
     "execution_count": 62,
     "metadata": {},
     "output_type": "execute_result"
    }
   ],
   "source": [
    "a.sum(axis=1)"
   ]
  },
  {
   "cell_type": "code",
   "execution_count": 63,
   "id": "2eb0b929-5109-40bf-be64-8267123cb7dd",
   "metadata": {},
   "outputs": [
    {
     "data": {
      "text/plain": [
       "4"
      ]
     },
     "execution_count": 63,
     "metadata": {},
     "output_type": "execute_result"
    }
   ],
   "source": [
    "a.max()"
   ]
  },
  {
   "cell_type": "code",
   "execution_count": 64,
   "id": "151d3ac3-cdae-4b1e-98d3-c72880edf76b",
   "metadata": {},
   "outputs": [
    {
     "data": {
      "text/plain": [
       "3"
      ]
     },
     "execution_count": 64,
     "metadata": {},
     "output_type": "execute_result"
    }
   ],
   "source": [
    "a.argmax()"
   ]
  },
  {
   "cell_type": "code",
   "execution_count": 65,
   "id": "9a985d8d-226b-4619-b013-5967490c908d",
   "metadata": {},
   "outputs": [
    {
     "data": {
      "text/plain": [
       "(2, 2)"
      ]
     },
     "execution_count": 65,
     "metadata": {},
     "output_type": "execute_result"
    }
   ],
   "source": [
    "a.shape"
   ]
  },
  {
   "cell_type": "code",
   "execution_count": 66,
   "id": "8e362ba8-8b41-4b81-a060-c4f49c49f387",
   "metadata": {},
   "outputs": [],
   "source": [
    "a=np.arange(1,10)"
   ]
  },
  {
   "cell_type": "code",
   "execution_count": 67,
   "id": "39150685-14e8-49ce-8885-8f9a08c082e4",
   "metadata": {},
   "outputs": [
    {
     "data": {
      "text/plain": [
       "array([1, 2, 3, 4, 5, 6, 7, 8, 9])"
      ]
     },
     "execution_count": 67,
     "metadata": {},
     "output_type": "execute_result"
    }
   ],
   "source": [
    "a"
   ]
  },
  {
   "cell_type": "code",
   "execution_count": 68,
   "id": "0b28d3e2-323b-4e68-acec-4f038e6b3dac",
   "metadata": {},
   "outputs": [
    {
     "data": {
      "text/plain": [
       "(9,)"
      ]
     },
     "execution_count": 68,
     "metadata": {},
     "output_type": "execute_result"
    }
   ],
   "source": [
    "a.shape\n",
    "\n",
    "\n"
   ]
  },
  {
   "cell_type": "code",
   "execution_count": 69,
   "id": "7df861cc-6961-4d52-9e0f-1fb1c841fe38",
   "metadata": {},
   "outputs": [
    {
     "data": {
      "text/plain": [
       "(9, 1)"
      ]
     },
     "execution_count": 69,
     "metadata": {},
     "output_type": "execute_result"
    }
   ],
   "source": [
    "a[:,np.newaxis].shape"
   ]
  },
  {
   "cell_type": "code",
   "execution_count": null,
   "id": "8a99d3c1-4f23-4609-a24e-3d56c3dec694",
   "metadata": {},
   "outputs": [],
   "source": []
  },
  {
   "cell_type": "code",
   "execution_count": 70,
   "id": "039a9cad-71ca-4a43-808f-98ac55fb3f08",
   "metadata": {},
   "outputs": [
    {
     "data": {
      "text/plain": [
       "<function numpy.sort(a, axis=-1, kind=None, order=None)>"
      ]
     },
     "execution_count": 70,
     "metadata": {},
     "output_type": "execute_result"
    }
   ],
   "source": [
    "np.sort"
   ]
  },
  {
   "cell_type": "code",
   "execution_count": 71,
   "id": "f7708565-ff74-40a8-9fa1-82519bb8cc68",
   "metadata": {},
   "outputs": [
    {
     "data": {
      "text/plain": [
       "array([1, 2, 3, 4, 5, 6, 7, 8, 9])"
      ]
     },
     "execution_count": 71,
     "metadata": {},
     "output_type": "execute_result"
    }
   ],
   "source": [
    "np.sort(a)"
   ]
  }
 ],
 "metadata": {
  "kernelspec": {
   "display_name": "Python 3",
   "language": "python",
   "name": "python3"
  },
  "language_info": {
   "codemirror_mode": {
    "name": "ipython",
    "version": 3
   },
   "file_extension": ".py",
   "mimetype": "text/x-python",
   "name": "python",
   "nbconvert_exporter": "python",
   "pygments_lexer": "ipython3",
   "version": "3.8.5"
  }
 },
 "nbformat": 4,
 "nbformat_minor": 5
}
